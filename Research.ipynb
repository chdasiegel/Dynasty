{
 "cells": [
  {
   "cell_type": "markdown",
   "id": "c6e53d77-427d-463c-a9e9-19df5bdb68a8",
   "metadata": {},
   "source": [
    "DynastyProcess\n",
    "website - https://dynastyprocess.com/#about\n",
    "GitHub - https://github.com/dynastyprocess"
   ]
  },
  {
   "cell_type": "markdown",
   "id": "31805937-786b-4501-99ec-4a135b8e2ec2",
   "metadata": {},
   "source": [
    "FantasyCalc\n",
    "website - https://fantasycalc.com"
   ]
  },
  {
   "attachments": {},
   "cell_type": "markdown",
   "id": "44bfe021-26dc-4cc8-b865-7a4676de0116",
   "metadata": {},
   "source": [
    "ChatGBT Suggestions\n",
    "Make it fully dynamic: regularly scrape KTC, FantasyCalc, and player stats (combine + college + NFL).\n",
    "Add natural language models to extract sentiment from Reddit or Twitter around specific players.\n",
    "Use reinforcement learning for long-term value forecasting (e.g., simulate future years in a dynasty league).\n",
    "Create a \"player card\" generator that updates with current predictive stats and trade value visuals.\n",
    "\n"
   ]
  },
  {
   "cell_type": "code",
   "execution_count": null,
   "id": "53698533-8158-43c3-a550-445a2041b915",
   "metadata": {},
   "outputs": [],
   "source": []
  }
 ],
 "metadata": {
  "kernelspec": {
   "display_name": "Python 3 (ipykernel)",
   "language": "python",
   "name": "python3"
  },
  "language_info": {
   "codemirror_mode": {
    "name": "ipython",
    "version": 3
   },
   "file_extension": ".py",
   "mimetype": "text/x-python",
   "name": "python",
   "nbconvert_exporter": "python",
   "pygments_lexer": "ipython3",
   "version": "3.11.13"
  }
 },
 "nbformat": 4,
 "nbformat_minor": 5
}
