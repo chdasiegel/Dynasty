{
 "cells": [
  {
   "cell_type": "code",
   "execution_count": 1,
   "id": "2621f550-cd30-4f84-a6b7-d766c5b55c21",
   "metadata": {},
   "outputs": [
    {
     "name": "stdout",
     "output_type": "stream",
     "text": [
      "Saved 2016_passing.csv\n",
      "Saved 2016_rushing.csv\n",
      "Saved 2016_receiving.csv\n",
      "Saved 2017_passing.csv\n",
      "Saved 2017_rushing.csv\n",
      "Saved 2017_receiving.csv\n",
      "Saved 2018_passing.csv\n",
      "Saved 2018_rushing.csv\n",
      "Saved 2018_receiving.csv\n",
      "Saved 2019_passing.csv\n",
      "Saved 2019_rushing.csv\n",
      "Saved 2019_receiving.csv\n",
      "Saved 2020_passing.csv\n",
      "Saved 2020_rushing.csv\n",
      "Saved 2020_receiving.csv\n",
      "Saved 2021_passing.csv\n",
      "Saved 2021_rushing.csv\n",
      "Saved 2021_receiving.csv\n",
      "Saved 2022_passing.csv\n",
      "Saved 2022_rushing.csv\n",
      "Saved 2022_receiving.csv\n",
      "Saved 2023_passing.csv\n",
      "Saved 2023_rushing.csv\n",
      "Saved 2023_receiving.csv\n",
      "Saved 2024_passing.csv\n",
      "Saved 2024_rushing.csv\n",
      "Saved 2024_receiving.csv\n"
     ]
    }
   ],
   "source": [
    "import requests\n",
    "import pandas as pd\n",
    "import time\n",
    "\n",
    "years = list(range(2016, 2025)) #change end bound to upcoming season\n",
    "stats = [\"passing\", \"rushing\", \"receiving\"]\n",
    "\n",
    "for year in years:\n",
    "    for stat in stats:\n",
    "        url = f\"https://www.sports-reference.com/cfb/years/{year}-{stat}.html\"\n",
    "        try:\n",
    "            response = requests.get(url)\n",
    "            response.raise_for_status()\n",
    "            dfs = pd.read_html(response.text)\n",
    "            if dfs:\n",
    "                df = dfs[0]\n",
    "                df.to_csv(f\"{year}_{stat}.csv\", index=False)\n",
    "                print(f\"Saved {year}_{stat}.csv\")\n",
    "            else:\n",
    "                print(f\"No tables found for {url}\")\n",
    "        except Exception as e:\n",
    "            print(f\"Failed for {url}: {e}\")\n",
    "        time.sleep(1)  # be polite to the server"
   ]
  },
  {
   "cell_type": "code",
   "execution_count": null,
   "id": "182aacc7-617b-42bb-a490-5c4a82186850",
   "metadata": {},
   "outputs": [],
   "source": []
  }
 ],
 "metadata": {
  "kernelspec": {
   "display_name": "Python (ML_env)",
   "language": "python",
   "name": "ml_env"
  },
  "language_info": {
   "codemirror_mode": {
    "name": "ipython",
    "version": 3
   },
   "file_extension": ".py",
   "mimetype": "text/x-python",
   "name": "python",
   "nbconvert_exporter": "python",
   "pygments_lexer": "ipython3",
   "version": "3.11.13"
  }
 },
 "nbformat": 4,
 "nbformat_minor": 5
}
