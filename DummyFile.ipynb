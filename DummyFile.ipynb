{
 "cells": [
  {
   "cell_type": "code",
   "execution_count": 2,
   "id": "06aabdf1-326b-4538-bf8d-d823a9405890",
   "metadata": {},
   "outputs": [
    {
     "name": "stdout",
     "output_type": "stream",
     "text": [
      "10709\n",
      "           player  season      Team    Conf     G    Cmp    Att  Cmp%     Yds  \\\n",
      "0  Caleb Williams    2021  Oklahoma  Big 12  11.0  136.0  211.0  64.5  1912.0   \n",
      "1  Caleb Williams    2022       USC  Pac-12  14.0  333.0  500.0  66.6  4537.0   \n",
      "2  Caleb Williams    2023       USC  Pac-12  12.0  266.0  388.0  68.6  3633.0   \n",
      "\n",
      "     TD   TD%  Int Int%  Y/A   AY/A   Y/C    Y/G   Rate stat_type  Rec Yds.1  \\\n",
      "0  21.0  10.0  4.0  1.9  9.1   10.2  14.1  173.8  169.6   passing  NaN   NaN   \n",
      "1  42.0   8.4  5.0  1.0  9.1   10.3  13.6  324.1  168.5   passing  NaN   NaN   \n",
      "2  30.0   7.7  5.0  1.3  9.4  10.33  13.7  302.8  170.1   passing  NaN   NaN   \n",
      "\n",
      "   Y/R TD.1 Y/G.1 Plays Scrim_Yds Scrim_Avg Tot_TD  \n",
      "0  NaN  NaN   NaN   NaN       NaN       NaN    NaN  \n",
      "1  NaN  NaN   NaN   NaN       NaN       NaN    NaN  \n",
      "2  NaN  NaN   NaN   NaN       NaN       NaN    NaN  \n"
     ]
    }
   ],
   "source": [
    "from process_college import build_player_dict\n",
    "\n",
    "player_dict = build_player_dict(verbose=False)  # defaults to CFB_Data folder\n",
    "print(len(player_dict))\n",
    "print(player_dict.get(\"Caleb Williams\"))\n"
   ]
  },
  {
   "cell_type": "code",
   "execution_count": null,
   "id": "107e9e61-f8c9-4e23-a507-be3786662be3",
   "metadata": {},
   "outputs": [],
   "source": [
    "from process_combine import build_combine_dict\n",
    "\n",
    "player_combine = build_combine_dict(verbose=False)  # defaults to Combine folder\n",
    "print(len(player_combine))\n",
    "print(player_combine.get(\"Quinshon Judkins\"))\n"
   ]
  },
  {
   "cell_type": "code",
   "execution_count": null,
   "id": "e6eac278-a380-4867-8a89-8410ff50ccc7",
   "metadata": {},
   "outputs": [],
   "source": [
    "from process_pro_qb import run_pro_qb_player\n",
    "\n",
    "qb_dict = run_pro_qb_player(years=range(2016, 2025), s_type=\"REG\", verbose=False)\n",
    "print(len(qb_dict))\n",
    "print(qb_dict.get(\"Patrick Mahomes\"))"
   ]
  },
  {
   "cell_type": "code",
   "execution_count": null,
   "id": "330b566f-c224-4708-bc51-12aa66289e73",
   "metadata": {},
   "outputs": [],
   "source": [
    "from process_pro_wr import run_pro_wr_player\n",
    "\n",
    "wr_dict = run_pro_wr_player(years=range(2016, 2025), s_type=\"REG\", verbose=False)\n",
    "print(len(wr_dict))\n",
    "print(wr_dict.get(\"Rashee Rice\"))"
   ]
  },
  {
   "cell_type": "code",
   "execution_count": null,
   "id": "9b105db8-4934-4516-853b-89d4c51c9359",
   "metadata": {},
   "outputs": [],
   "source": [
    "from process_pro_rb import run_pro_rb_player\n",
    "\n",
    "rb_dict = run_pro_rb_player(years=range(2016, 2025), s_type=\"REG\", verbose=False)\n",
    "print(len(rb_dict))\n",
    "print(rb_dict.get(\"Christian McCaffrey\"))"
   ]
  },
  {
   "cell_type": "code",
   "execution_count": null,
   "id": "0fd833bc-28cd-4c7b-aa1c-ef181c054503",
   "metadata": {},
   "outputs": [],
   "source": [
    "from process_pro_te import run_pro_te_player\n",
    "\n",
    "te_dict = run_pro_te_player(years=range(2016, 2025), s_type=\"REG\", verbose=False)\n",
    "print(len(te_dict))\n",
    "print(te_dict.get(\"Travis Kelce\"))"
   ]
  },
  {
   "cell_type": "code",
   "execution_count": null,
   "id": "1c16f46e-8b40-40fe-85e0-c18c2a2415d1",
   "metadata": {},
   "outputs": [],
   "source": [
    "from fantasycalc_client import (\n",
    "        get_player_value, search_players,\n",
    "        get_rankings_df, save_current_rankings\n",
    "    )\n",
    "\n",
    "# Look up one player\n",
    "row = get_player_value(\"Breece Hall\")\n",
    "print(row)\n",
    "\n",
    "# Search for possible name matches\n",
    "print(search_players(\"Harrison\"))\n",
    "\n",
    "# Get full rankings as a DataFrame\n",
    "df = get_rankings_df(dynasty=True, num_qbs=2, teams=12, ppr=1.0)\n",
    "print(df.head())\n",
    "\n",
    "# Save CSV snapshot(s) to Market_Value/\n",
    "path = save_current_rankings(dynasty=True, num_qbs=2, teams=12, ppr=1.0)\n",
    "print(\"Saved:\", path)"
   ]
  },
  {
   "cell_type": "code",
   "execution_count": 1,
   "id": "ea9f8c77-0650-49e6-95aa-78b79e7e458a",
   "metadata": {},
   "outputs": [
    {
     "ename": "ModuleNotFoundError",
     "evalue": "No module named 'matplotlib'",
     "output_type": "error",
     "traceback": [
      "\u001b[31m---------------------------------------------------------------------------\u001b[39m",
      "\u001b[31mModuleNotFoundError\u001b[39m                       Traceback (most recent call last)",
      "\u001b[36mCell\u001b[39m\u001b[36m \u001b[39m\u001b[32mIn[1]\u001b[39m\u001b[32m, line 2\u001b[39m\n\u001b[32m      1\u001b[39m \u001b[38;5;66;03m# In your notebook\u001b[39;00m\n\u001b[32m----> \u001b[39m\u001b[32m2\u001b[39m \u001b[38;5;28;01mfrom\u001b[39;00m\u001b[38;5;250m \u001b[39m\u001b[34;01mplot_scatter_wr_combine\u001b[39;00m\u001b[38;5;250m \u001b[39m\u001b[38;5;28;01mimport\u001b[39;00m main\n\u001b[32m      3\u001b[39m \u001b[38;5;28;01mimport\u001b[39;00m\u001b[38;5;250m \u001b[39m\u001b[34;01mmatplotlib\u001b[39;00m\u001b[34;01m.\u001b[39;00m\u001b[34;01mpyplot\u001b[39;00m\u001b[38;5;250m \u001b[39m\u001b[38;5;28;01mas\u001b[39;00m\u001b[38;5;250m \u001b[39m\u001b[34;01mplt\u001b[39;00m\n\u001b[32m      4\u001b[39m \u001b[38;5;28;01mimport\u001b[39;00m\u001b[38;5;250m \u001b[39m\u001b[34;01mmatplotlib\u001b[39;00m\u001b[34;01m.\u001b[39;00m\u001b[34;01mimage\u001b[39;00m\u001b[38;5;250m \u001b[39m\u001b[38;5;28;01mas\u001b[39;00m\u001b[38;5;250m \u001b[39m\u001b[34;01mmpimg\u001b[39;00m\n",
      "\u001b[36mFile \u001b[39m\u001b[32m~/Desktop/Comp_Sci/Capstone/Dynasty/plot_scatter_wr_combine.py:28\u001b[39m\n\u001b[32m     26\u001b[39m \u001b[38;5;28;01mfrom\u001b[39;00m\u001b[38;5;250m \u001b[39m\u001b[34;01mtyping\u001b[39;00m\u001b[38;5;250m \u001b[39m\u001b[38;5;28;01mimport\u001b[39;00m Dict, Iterable, List\n\u001b[32m     27\u001b[39m \u001b[38;5;28;01mimport\u001b[39;00m\u001b[38;5;250m \u001b[39m\u001b[34;01mpandas\u001b[39;00m\u001b[38;5;250m \u001b[39m\u001b[38;5;28;01mas\u001b[39;00m\u001b[38;5;250m \u001b[39m\u001b[34;01mpd\u001b[39;00m\n\u001b[32m---> \u001b[39m\u001b[32m28\u001b[39m \u001b[38;5;28;01mimport\u001b[39;00m\u001b[38;5;250m \u001b[39m\u001b[34;01mmatplotlib\u001b[39;00m\u001b[34;01m.\u001b[39;00m\u001b[34;01mpyplot\u001b[39;00m\u001b[38;5;250m \u001b[39m\u001b[38;5;28;01mas\u001b[39;00m\u001b[38;5;250m \u001b[39m\u001b[34;01mplt\u001b[39;00m\n\u001b[32m     30\u001b[39m \u001b[38;5;28;01mfrom\u001b[39;00m\u001b[38;5;250m \u001b[39m\u001b[34;01mprocess_combine\u001b[39;00m\u001b[38;5;250m \u001b[39m\u001b[38;5;28;01mimport\u001b[39;00m build_combine_dict\n\u001b[32m     32\u001b[39m PREFERRED_40_COLS = [\u001b[33m\"\u001b[39m\u001b[33m40yd\u001b[39m\u001b[33m\"\u001b[39m, \u001b[33m\"\u001b[39m\u001b[33m40Yd\u001b[39m\u001b[33m\"\u001b[39m, \u001b[33m\"\u001b[39m\u001b[33m40-Yard\u001b[39m\u001b[33m\"\u001b[39m, \u001b[33m\"\u001b[39m\u001b[33m40\u001b[39m\u001b[33m\"\u001b[39m, \u001b[33m\"\u001b[39m\u001b[33mForty\u001b[39m\u001b[33m\"\u001b[39m, \u001b[33m\"\u001b[39m\u001b[33m40 yd\u001b[39m\u001b[33m\"\u001b[39m]\n",
      "\u001b[31mModuleNotFoundError\u001b[39m: No module named 'matplotlib'"
     ]
    }
   ],
   "source": [
    "# In your notebook\n",
    "from plot_scatter_wr_combine import main\n",
    "import matplotlib.pyplot as plt\n",
    "import matplotlib.image as mpimg\n",
    "\n",
    "# Run with defaults (Combine folder, 2016–2025, limit 100 WRs)\n",
    "main(years=range(2016, 2026), data_dir=\"Combine\", limit=100)\n",
    "\n",
    "# This will save \"combine_wr_scatter.png\" in your working directory.\n",
    "\n",
    "\n",
    "\n"
   ]
  },
  {
   "cell_type": "code",
   "execution_count": null,
   "id": "b98b66bc-f4b8-4615-9aee-c0e1bf6f058b",
   "metadata": {},
   "outputs": [],
   "source": []
  },
  {
   "cell_type": "code",
   "execution_count": null,
   "id": "25cd1074-ddfb-4aae-8090-15a8a7e7f245",
   "metadata": {},
   "outputs": [],
   "source": []
  },
  {
   "cell_type": "code",
   "execution_count": null,
   "id": "338c2913-3ce6-433e-b58f-104921f301c5",
   "metadata": {},
   "outputs": [],
   "source": []
  }
 ],
 "metadata": {
  "kernelspec": {
   "display_name": "Python (ML_env)",
   "language": "python",
   "name": "ml_env"
  },
  "language_info": {
   "codemirror_mode": {
    "name": "ipython",
    "version": 3
   },
   "file_extension": ".py",
   "mimetype": "text/x-python",
   "name": "python",
   "nbconvert_exporter": "python",
   "pygments_lexer": "ipython3",
   "version": "3.11.13"
  }
 },
 "nbformat": 4,
 "nbformat_minor": 5
}
