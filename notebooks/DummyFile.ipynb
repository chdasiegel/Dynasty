{
 "cells": [
  {
   "cell_type": "code",
   "execution_count": null,
   "id": "06aabdf1-326b-4538-bf8d-d823a9405890",
   "metadata": {},
   "outputs": [],
   "source": [
    "import sys\n",
    "sys.path.append(\"/Users/chase/Desktop/Comp_Sci/Capstone/Dynasty\")\n",
    "\n",
    "from src.process_college import build_player_dict\n",
    "\n",
    "player_dict = build_player_dict(verbose=False)  # defaults to CFB_Data folder\n",
    "print(len(player_dict))\n",
    "print(player_dict.get(\"Luther Burden\"))\n"
   ]
  },
  {
   "cell_type": "code",
   "execution_count": null,
   "id": "107e9e61-f8c9-4e23-a507-be3786662be3",
   "metadata": {},
   "outputs": [],
   "source": [
    "import sys\n",
    "sys.path.append(\"/Users/chase/Desktop/Comp_Sci/Capstone/Dynasty\")\n",
    "\n",
    "from src.process_combine import build_combine_dict\n",
    "\n",
    "player_combine = build_combine_dict(verbose=False)  # defaults to Combine folder\n",
    "print(len(player_combine))\n",
    "print(player_combine.get(\"Luther Burden\"))\n"
   ]
  },
  {
   "cell_type": "code",
   "execution_count": null,
   "id": "e6eac278-a380-4867-8a89-8410ff50ccc7",
   "metadata": {},
   "outputs": [],
   "source": [
    "from src.process_pro_qb import run_pro_qb_player\n",
    "\n",
    "qb_dict = run_pro_qb_player(years=range(2016, 2025), s_type=\"REG\", verbose=False)\n",
    "print(len(qb_dict))\n",
    "print(qb_dict.get(\"Patrick Mahomes\"))"
   ]
  },
  {
   "cell_type": "code",
   "execution_count": null,
   "id": "330b566f-c224-4708-bc51-12aa66289e73",
   "metadata": {},
   "outputs": [],
   "source": [
    "from src.process_pro_wr import run_pro_wr_player\n",
    "\n",
    "wr_dict = run_pro_wr_player(years=range(2016, 2025), s_type=\"REG\", verbose=False)\n",
    "print(len(wr_dict))\n",
    "print(wr_dict.get(\"Rashee Rice\"))"
   ]
  },
  {
   "cell_type": "code",
   "execution_count": null,
   "id": "9b105db8-4934-4516-853b-89d4c51c9359",
   "metadata": {},
   "outputs": [],
   "source": [
    "from src.process_pro_rb import run_pro_rb_player\n",
    "\n",
    "rb_dict = run_pro_rb_player(years=range(2016, 2025), s_type=\"REG\", verbose=False)\n",
    "print(len(rb_dict))\n",
    "print(rb_dict.get(\"Christian McCaffrey\"))"
   ]
  },
  {
   "cell_type": "code",
   "execution_count": null,
   "id": "0fd833bc-28cd-4c7b-aa1c-ef181c054503",
   "metadata": {},
   "outputs": [],
   "source": [
    "from src.process_pro_te import run_pro_te_player\n",
    "\n",
    "te_dict = run_pro_te_player(years=range(2016, 2025), s_type=\"REG\", verbose=False)\n",
    "print(len(te_dict))\n",
    "print(te_dict.get(\"Travis Kelce\"))"
   ]
  },
  {
   "cell_type": "code",
   "execution_count": null,
   "id": "1c16f46e-8b40-40fe-85e0-c18c2a2415d1",
   "metadata": {},
   "outputs": [],
   "source": [
    "from src.fantasycalc_client import (\n",
    "        get_player_value, search_players,\n",
    "        get_rankings_df, save_current_rankings\n",
    "    )\n",
    "\n",
    "# Look up one player\n",
    "row = get_player_value(\"Breece Hall\")\n",
    "print(row)\n",
    "\n",
    "# Search for possible name matches\n",
    "print(search_players(\"Harrison\"))\n",
    "\n",
    "# Get full rankings as a DataFrame\n",
    "df = get_rankings_df(dynasty=True, num_qbs=2, teams=12, ppr=1.0)\n",
    "print(df.head())\n",
    "\n",
    "# Save CSV snapshot(s) to Market_Value/\n",
    "path = save_current_rankings(dynasty=True, num_qbs=2, teams=12, ppr=1.0)\n",
    "print(\"Saved:\", path)"
   ]
  },
  {
   "cell_type": "code",
   "execution_count": 1,
   "id": "ea9f8c77-0650-49e6-95aa-78b79e7e458a",
   "metadata": {},
   "outputs": [
    {
     "name": "stdout",
     "output_type": "stream",
     "text": [
      "ℹ️ Reading Combine CSVs from: /Users/chasesiegel/Desktop/Comp_Sci/Capstone/Dynasty/data/Combine\n",
      "✅ Loaded 2020_Combine.csv (122 rows)\n",
      "✅ Loaded 2021_Combine.csv (150 rows)\n",
      "✅ Loaded 2022_Combine.csv (112 rows)\n",
      "✅ Loaded 2023_Combine.csv (111 rows)\n",
      "✅ Loaded 2024_Combine.csv (98 rows)\n",
      "✅ Loaded 2025_Combine.csv (115 rows)\n",
      "✅ Created player_combine_dict with 707 players.\n",
      "Saved /Users/chasesiegel/Desktop/Comp_Sci/Capstone/Dynasty/tests/combine_wr_scatter.png\n"
     ]
    }
   ],
   "source": [
    "from src.plot_scatter_wr_combine import main\n",
    "main(years=range(2020, 2026), limit=50, pick_min=1, pick_max=32)\n"
   ]
  },
  {
   "cell_type": "code",
   "execution_count": null,
   "id": "b98b66bc-f4b8-4615-9aee-c0e1bf6f058b",
   "metadata": {},
   "outputs": [],
   "source": []
  },
  {
   "cell_type": "code",
   "execution_count": null,
   "id": "25cd1074-ddfb-4aae-8090-15a8a7e7f245",
   "metadata": {},
   "outputs": [],
   "source": []
  },
  {
   "cell_type": "code",
   "execution_count": null,
   "id": "338c2913-3ce6-433e-b58f-104921f301c5",
   "metadata": {},
   "outputs": [],
   "source": []
  }
 ],
 "metadata": {
  "kernelspec": {
   "display_name": "Python (ML_env)",
   "language": "python",
   "name": "ml_env"
  },
  "language_info": {
   "codemirror_mode": {
    "name": "ipython",
    "version": 3
   },
   "file_extension": ".py",
   "mimetype": "text/x-python",
   "name": "python",
   "nbconvert_exporter": "python",
   "pygments_lexer": "ipython3",
   "version": "3.11.13"
  }
 },
 "nbformat": 4,
 "nbformat_minor": 5
}
